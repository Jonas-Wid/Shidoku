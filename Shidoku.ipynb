{
 "cells": [
  {
   "cell_type": "markdown",
   "metadata": {},
   "source": [
    "Dieses Jupyter Notebook ist eine Ergänzung zu der Bachelorarbeit\n",
    "<h2><center> Lösen des Minimierungsproblems: Es existiert kein 16-Tipp Sudoku </center></h2>\n",
    "von Jonas Widmann an der Universität Stuttgart. Wir wollen dabei nun die in der Ausarbeitung gelernten Methoden benutzen, um mit diesen das Minimierungsproblem für Shidokus explizit zu betrachten. Shidoku sind Mini-Sudoku mit einem $4\\times4$-Gitter. Wir betrachten also besonders die Aufgabenstellung:\n",
    "<h2><center> Lösen des Minimierungsproblems: Es existiert kein 3-Tipp Shidoku </center></h2>\n",
    "Der folgende Code wird zwar jeweils kurz erklärt, jedoch ist dieser nicht alleine ohne die Bachelorarbeit zu betrachten. Das liegt daran, dass Überlegungen und Hilfsaussagen der benutzen Methoden und Aussagen nicht ausführlich aufgezeigt werden."
   ]
  },
  {
   "cell_type": "code",
   "execution_count": null,
   "metadata": {},
   "outputs": [],
   "source": [
    "import numpy as np\n",
    "import itertools"
   ]
  },
  {
   "cell_type": "markdown",
   "metadata": {},
   "source": [
    "Wir wollen nun also das Minimierungsproblem für Shidokus betrachten. Die Spielregeln für Shudokus sind dabei: \n",
    "1. In jeder Reihe müssen die Zahlen von $1$ bis $4$ genau ein Mal vorkommen.\n",
    "2. In jeder Spalte müssen die Zahlen von $1$ bis $4$ genau ein Mal vorkommen.\n",
    "3. In jedem Block müssen die Zahlen von $1$ bis $4$ genau ein Mal vorkommen.\n",
    "\n",
    "Ein Sudoku-Rätsel muss nun in Anbetracht der Spielregeln mit den Zahlen $1$ bis $4$ ausgefüllt werden, bis jede Zelle in dem Gitter einen Wert zugeordnet hat, das Gitter also vollständig ist. Wir wollen nun einen Shidoku-Solver programmieren, welcher ein Shidoku-Rätsel numerisch lösen kann. Dafür benutögen wir folgende (Hilfs-)Funktionen:"
   ]
  },
  {
   "cell_type": "code",
   "execution_count": null,
   "metadata": {},
   "outputs": [],
   "source": [
    "def number_valid(board, number, position): \n",
    "    '''\n",
    "    This function checks whether a given number is valid for the given position in the shidoku-board.\n",
    "    The number is valid, if none of the associated cells of the cell of the given position already contain the number.\n",
    "    The number is not valid, if a associated cells containing the number exists, otherwise the rules would be broken.\n",
    "    '''\n",
    "    \n",
    "    # check if row contains the number\n",
    "    for i in range(len(board[0])):\n",
    "        if board[position[0]][i] == number and position[1] != i:\n",
    "            return False\n",
    "        \n",
    "    # check if column contains the number\n",
    "    for i in range(len(board)):\n",
    "        if board[i][position[1]] == number and position[0] != i:\n",
    "            return False\n",
    "        \n",
    "    # check if block contains the number\n",
    "    block_x = position[1] // 2\n",
    "    block_y = position[0] // 2\n",
    "    for i in range(block_y * 2, block_y * 2 + 2):\n",
    "        for j in range(block_x * 2, block_x * 2 + 2):\n",
    "            if board[i][j] == number and (i,j) != number:\n",
    "                return False\n",
    "            \n",
    "    return True\n",
    "\n",
    "\n",
    "def solve(board, solutions):\n",
    "    '''\n",
    "    This function recursively fills a given shidoku-board with all possibilities,\n",
    "    using backtracking if no number is valid in the cell. \n",
    "    If a solution is found, it is then added to the list of the solutions of the board, allowing us to calculate all solution\n",
    "    grids of the given Shidoku-board.\n",
    "    '''\n",
    "    \n",
    "    for y in range(len(board)):\n",
    "        for x in range(len(board)):\n",
    "            if board[y][x] == 0: # cell is empty\n",
    "                for n in range(1,len(board)+1):\n",
    "                    if number_valid(board, n, (y,x)):\n",
    "                        board[y][x] = n # number is valid\n",
    "                        solve(board, solutions)\n",
    "                        board[y][x] = 0 # backtrack if the recursive call gets no valid number for the following cell.\n",
    "                        \n",
    "                return\n",
    "    solutions.append(board.copy())\n",
    "    \n",
    "        \n",
    "def find_solutions(board):\n",
    "    '''\n",
    "    This function takes a Shidoku-board, creates an empty list for the solution and than calls the function solve(),\n",
    "    to get all the solutions of the board.\n",
    "    '''\n",
    "    \n",
    "    solutions = []\n",
    "    solve(board, solutions)\n",
    "    return solutions"
   ]
  },
  {
   "cell_type": "markdown",
   "metadata": {},
   "source": [
    "Diesen Solver können wir beispielsweise benutzen, um die in dem Paper berechnete Anzahl an verschiedenen Shidoku-Gittern zu berechnen. Wir waren in dem Paper auf $288$ verschiedene Shidoku-Gitter bekommen. Dies müsste die gleiche Anzahl an Gittern sein, die der eben definierte Solver als Lösungen des leeren Shidoku-Gitters finden sollte."
   ]
  },
  {
   "cell_type": "code",
   "execution_count": null,
   "metadata": {},
   "outputs": [],
   "source": [
    "empty_shidoku = np.zeros([4,4]) # empty Shidoku-Grid\n",
    "shidoku_grids = find_solutions(empty_shidoku)\n",
    "print(\"Die Anzahl an verschiedenen Shidoku-Gittern ist:\", len(shidoku_grids))"
   ]
  },
  {
   "cell_type": "markdown",
   "metadata": {},
   "source": [
    "Dies bestätigt also, dass $288$ verschiedene Shidoku-Gitter existieren.\\\n",
    "Wir wollen nun die Äquivalenztransformationen auf Shidoku-Gittern betrachten. Wir hatten hier gesagt, dass die Äquivalenztransformationen sind:\n",
    "1. Zahlenpermutation: Umnummerierung der Zahlen\n",
    "2. Reihenpermutation: Permutation der Bänder und der Reihen in dem jeweiligen Band\n",
    "3. Spaltenpermutation: Permutation der Stapel und der Spalten in dem jeweiligen Stapel\n",
    "4. Transposition des Gitters\n",
    "\n",
    "Diese Äquivalenztransformationen können wir direkt definieren."
   ]
  },
  {
   "cell_type": "code",
   "execution_count": null,
   "metadata": {},
   "outputs": [],
   "source": [
    "# all permutations in symmetrical group S_4\n",
    "number_permutations = list(itertools.permutations([1,2,3,4]))\n",
    "\n",
    "# all permutations of the bands and the rows in each of the bands\n",
    "row_permutations = ([0,1,2,3],[0,1,3,2],[1,0,2,3],[1,0,3,2],[2,3,0,1],[3,2,0,1],[2,3,1,0],[3,2,1,0])\n",
    "\n",
    "# all permutations of the stacks and the columns in each of the stacks\n",
    "column_permutations = ([0,1,2,3],[0,1,3,2],[1,0,2,3],[1,0,3,2],[2,3,0,1],[3,2,0,1],[2,3,1,0],[3,2,1,0])\n",
    "\n",
    "# either the transpose is tacken, or not\n",
    "transpose = (False,True)"
   ]
  },
  {
   "cell_type": "markdown",
   "metadata": {},
   "source": [
    "Für diese Äquivalenztransformationen wollen wir nun jeweils die Auswirkung auf ein Shidoku-Gitter numerisch berechnen. Diese Funktionen sind technisch nicht sonderlich aufwendig, sie machen genau das, was sie logisch machen sollten."
   ]
  },
  {
   "cell_type": "code",
   "execution_count": null,
   "metadata": {},
   "outputs": [],
   "source": [
    "def permutate_numbers(grid, permutation=[0,1,2,3]):\n",
    "    '''\n",
    "    This function permutates the numbers in the given grid with the given number permutation.\n",
    "    '''\n",
    "    \n",
    "    permutated_grid = grid.copy()\n",
    "    #np.select substitutes specific values in an array with new values\n",
    "    permutated_grid = np.select([permutated_grid == 1, permutated_grid == 2, permutated_grid == 3, permutated_grid == 4],\n",
    "                                permutation, permutated_grid)\n",
    "    return permutated_grid\n",
    "\n",
    "\n",
    "def permutate_rows(grid, permutation=[0,1,2,3]):\n",
    "    '''\n",
    "    This function permutates the rows in the given grid with the given row permutation.\n",
    "    '''\n",
    "    \n",
    "    permutated_grid = grid.copy()\n",
    "    permutated_grid[permutation] = permutated_grid[[0,1,2,3]]\n",
    "    return permutated_grid\n",
    "\n",
    "\n",
    "def permutate_columns(grid, permutation=[0,1,2,3]):\n",
    "    '''\n",
    "    This function permutates the columns in the given grid with the given column permutation.\n",
    "    '''\n",
    "    \n",
    "    permutated_grid = grid.copy()\n",
    "    permutated_grid[:,permutation] = permutated_grid[:,[0,1,2,3]]\n",
    "    return permutated_grid\n",
    "\n",
    "\n",
    "def transpose_grid(grid, transpose = False):\n",
    "    '''\n",
    "    This functions transposes the grid if the given variable transpose is True.\n",
    "    '''\n",
    "    \n",
    "    if transpose:\n",
    "        grid = np.transpose(grid).copy()\n",
    "    return grid"
   ]
  },
  {
   "cell_type": "markdown",
   "metadata": {},
   "source": [
    "Mit den eben definierten Funktionen können wir nun mit einem Brute-Force Algorithmus die komplette Äquivalenzklasse zu einem Gitter bestimmen. Dafür erzeugen wir alle Gitter, die mit den Äquivalenztransformationen möglich sind und fügen diese einer Listen hinzu, falls das erzeugte Gitter nicht bereits in dieser Liste vorhanden ist."
   ]
  },
  {
   "cell_type": "code",
   "execution_count": null,
   "metadata": {},
   "outputs": [],
   "source": [
    "def equivalent_grids(grid):\n",
    "    '''\n",
    "    This function calculates all equivalent grids to a given grid using all possible combinations\n",
    "    of the equivalence transformations.\n",
    "    '''\n",
    "    \n",
    "    equiv_grids = []\n",
    "    for i in transpose:\n",
    "        for j in row_permutations:\n",
    "            for k in column_permutations:\n",
    "                for l in number_permutations:\n",
    "                    equiv_grid = permutate_numbers(permutate_columns(permutate_rows(transpose_grid(grid,i),j),k),l)\n",
    "                    \n",
    "                    if not any(np.array_equal(equiv_grid, equi) for equi in equiv_grids): # check if grid is already in the list\n",
    "                        equiv_grids.append(equiv_grid)\n",
    "    return equiv_grids"
   ]
  },
  {
   "cell_type": "markdown",
   "metadata": {},
   "source": [
    "Wir hatten in der Ausarbeitung gesehen, dass es genau zwei Äquivalenzklassen für Shidoku-Gitter gibt unter den Äquivalenztransformationen. Durch Benutzung der Minlex-Form für die Repräsentanten haben wir dadurch für die Repräsentanten die beiden Shidoku-Gitter:"
   ]
  },
  {
   "cell_type": "code",
   "execution_count": null,
   "metadata": {},
   "outputs": [],
   "source": [
    "shidoku_1 = np.array([[1,2,3,4],[3,4,1,2],[2,1,4,3],[4,3,2,1]])\n",
    "shidoku_2 = np.array([[1,2,3,4],[3,4,1,2],[2,3,4,1],[4,1,2,3]])\n",
    "\n",
    "print(\"Typ-1 representant:\")\n",
    "print(shidoku_1)\n",
    "print(\"-----------\")\n",
    "print(\"Typ-2 representant:\")\n",
    "print(shidoku_2)"
   ]
  },
  {
   "cell_type": "markdown",
   "metadata": {},
   "source": [
    "Wir wollen nun erneut numerisch beweisen, dass genau zwei Äquivalenzklassen existieren und die eben definierten Shidoku-Gitter Repräsentanten dieser Äquivalenzklassen sind. Dafür erzeugen wir mit unserer Funktion alle equivalenten Shidoku-Gitter der Repräsentanten."
   ]
  },
  {
   "cell_type": "code",
   "execution_count": null,
   "metadata": {},
   "outputs": [],
   "source": [
    "type_one_equi = equivalent_grids(shidoku_1)\n",
    "print(\"The count of the equivalence class of the Type-1 Shidoku is:\", len(type_one_equi))\n",
    "\n",
    "type_two_equi = equivalent_grids(shidoku_2)\n",
    "print(\"The count of the equivalence class of the Type-2 Shidoku is:\", len(type_two_equi))"
   ]
  },
  {
   "cell_type": "markdown",
   "metadata": {},
   "source": [
    "Die numerische Berechnung zeigt also erneut, dass die Äquivalenzklassen des Typ-1 Shidoku-Gitters $96$ Elemente enthält. während die Äquivalenzklasse des Typ-2 Shidoku-Gitters $192$ Elemente enthält. Dadurch haben wir folgende Aussagen:\n",
    "1. Das Typ-1 Shidoku-Gitter kann nicht äquivalent sein zu dem Typ-2 Shidoku-Gitter, da sie in verschiedenen Äquivalenzklassen liegen.\n",
    "2. Es existiert keine weiter Äquivalenzklasse, da alle Gitter entweder in der Äquivalenzklasse eines der beiden Gitter ist. Dies folgt direkt aus der Anzahl der vollständigen Gitter: $288 = 96 + 192$.\n",
    "\n",
    "Diese beiden Gitter sind also gültige Repräsentanten.\\\n",
    "Wir wollen nun nützliche Blaupausen suchen. Wir werden sehen, dass wir tatsächlich nur eine nützliche $1\\times 2$ Blaupause benötigen, um auf einen Widerspruch zu kommen. Diese führt uns zu der $1 \\times 2$ Blaupause:"
   ]
  },
  {
   "cell_type": "code",
   "execution_count": null,
   "metadata": {},
   "outputs": [],
   "source": [
    "blueprint = np.array([1, 0, 2, 0, 2, 0, 1, 0]) # saved as an array for the pattern checking later\n",
    "print(\"Die einzige nützliche Blaupause:\")\n",
    "print(np.reshape(blueprint, (2,4)))"
   ]
  },
  {
   "cell_type": "markdown",
   "metadata": {},
   "source": [
    "Nun müssen wir eine Routine programmieren, welche die Blaupause gegen die möglichen Permutationen des Gitters prüft. Für die Reihenpermutationen müssen wir zwei Möglichkeiten betrachten, es muss jeweils das Band betrachtet werden. Eine Reihenpermutation innerhalb der Bänder ist nicht nötig, da diese die Struktur der Blaupause nicht verändern und somit keinen Unterschied machen würden. Wir haben also die Reihenpermutationen:\n",
    "\\begin{align*}\n",
    "    &\\sigma_1 = (0,1,2,3) \\mapsto (0,1,2,3)\\\\\n",
    "    &\\sigma_2 = (0,1,2,3) \\mapsto (2,3,0,1)\n",
    "\\end{align*}\n",
    "Für die Spaltenpermutationen benötigen wir vier Permutationen, dabei existieren mehrere Möglichkeiten diese auszudrücken. Eine Möglichkeit hierfür wäre in jedem Band die möglichen Permutationen und die Bänder nicht zu permutieren. Dies liefert die Spaltenpermutationen:\n",
    "\\begin{align*}\n",
    "    &\\rho_1 = (0,1,2,3) \\mapsto (0,1,2,3)\\\\\n",
    "    &\\rho_2 = (0,1,2,3) \\mapsto (1,0,2,3)\\\\\n",
    "    &\\rho_3 = (0,1,2,3) \\mapsto (0,1,3,2)\\\\\n",
    "    &\\rho_4 = (0,1,2,3) \\mapsto (1,0,3,2)\n",
    "\\end{align*}\n",
    "Da wir die Blaupause wieder in der Größe $m\\times n$ mit $m\\leq n$ eingeschränkt hatten, müssen wir die Transposition jeweils auch noch betrachten.\\\n",
    "Insgesamt müssen also $2 \\cdot 4 \\cdot 2 = 16$ äquivalente Gitter erzeugt werden und gegen die Blaupause verglichen werden. Nach der Folgerung aus Bemerkung 3.19 muss das erzeugte äquivalente Gitter nur gegen Blaupausen überprüft werden, falls die Zellen $z_{1,1}$ und $z_{2,3}$ die gleiche Zahl zugeordnet haben."
   ]
  },
  {
   "cell_type": "code",
   "execution_count": null,
   "metadata": {},
   "outputs": [],
   "source": [
    "def generate_unavoidable(grid, blueprint):\n",
    "    \"\"\"\n",
    "    This function calculates all unavoidable sets in the given grid that have the form of the given blueprint.\n",
    "    \"\"\"\n",
    "    \n",
    "    unavoid_sets = [] # list for the found unavoidable sets\n",
    "    # check which numbers are contained in the blueprint and in which cell the first occurance is\n",
    "    numbers, first_occurances = np.unique(blueprint, return_index = True)[:2]\n",
    "\n",
    "    for i in transpose:\n",
    "        for j in ([0,1,2,3],[2,3,0,1]): # needed row permutations as defined before\n",
    "            for k in ([0,1,2,3],[1,0,2,3],[0,1,3,2],[1,0,3,2]): # needed column permutations as defined before\n",
    "                equiv_grid = permutate_columns(permutate_rows(transpose_grid(grid,i),j),k) # generate equivalent grid\n",
    "                \n",
    "                if equiv_grid[0][0] == equiv_grid[1][2]: # test if cells z_{1,1} and z_{2,3} contain the same number\n",
    "                    equiv_grid = np.reshape(equiv_grid, 16) # reshape grid for blueprint machting\n",
    "                    unavoid_set = np.zeros(16)\n",
    "                    \n",
    "                    for l in range(1,len(numbers)): # exclude the zeros (empty cells) \n",
    "                        number = numbers[l]\n",
    "                        number_grid = equiv_grid[first_occurances[l]] # the number contained by the equivalent grid\n",
    "                        \n",
    "                        # check if the cells of the blueprint containing a specific number overlap with the cells of the \n",
    "                        # equivalent grid containing a (maybe other) specific number.\n",
    "                        if np.array_equal(np.where(equiv_grid[:len(blueprint)] == number_grid)[0],\n",
    "                                          np.where(blueprint == number)[0]):\n",
    "                            # add the cells of the equivalent grid to the unavoidable set\n",
    "                            np.put(unavoid_set, np.where(equiv_grid[:len(blueprint)] == number_grid)[0], number_grid)\n",
    "                        \n",
    "                        # if not, set the unavoidable set zero\n",
    "                        else:\n",
    "                            unavoid_set = np.zeros(16)\n",
    "                    \n",
    "                    # check if a unavoidable set was found\n",
    "                    if not np.array_equal(unavoid_set, np.zeros(16)):\n",
    "                        unavoid_set = np.reshape(unavoid_set, (4,4)) # change back the form of the unavoidable set\n",
    "                        # transpose the unavoidable set back to fit the original grid\n",
    "                        unavoid_set = transpose_grid(permutate_rows(permutate_columns(unavoid_set,k),j),i)\n",
    "                        unavoid_sets.append(unavoid_set)\n",
    "                        \n",
    "    return unavoid_sets"
   ]
  },
  {
   "cell_type": "markdown",
   "metadata": {},
   "source": [
    "Mit dieser Methode können wir nun also für ein gegebenes vollständiges Gitter alle unvermeidbaren Mengen mit der Form der Blaupause bestimmen. Dies wollen wir nun auf unsere Repräsentanten anwenden. Wir erzeugen nun zuerst die unvermeidbaren Mengen für das Typ-1 Shidoku-Gitter."
   ]
  },
  {
   "cell_type": "code",
   "execution_count": null,
   "metadata": {},
   "outputs": [],
   "source": [
    "unavoid_sets_1 = generate_unavoidable(shidoku_1,blueprint)\n",
    "\n",
    "for sets in unavoid_sets_1:\n",
    "    print(sets)\n",
    "    print(\"---------------\")"
   ]
  },
  {
   "cell_type": "markdown",
   "metadata": {},
   "source": [
    "Wir sehen hierbei, dass die acht gefundenen unvermeidbaren Mengen zwei disjunkte Zerlegungen des Typ-1 Shidoku-Gitters bilden (die ersten $4$ unvermeidbaren Mengen bilden eine disjunkte Zerlegung und die anderen $4$ unvermeidbaren Mengen ebenso). Da alle diese unvermeidbaren Mengen $(4,1)$-unvermeidbar sind, bildet also das Typ-1 Shidoku-Gitter durch jede der beiden disjunkten Zerlegungen jeweils selbst eine $(16,4)$-unvermeidbare Menge nach Korollar 3.26. Nach Proposition 3.29 müssen dann aus dem Typ-1 Gitter mindestens $4$ Tipps bezogen werden, dass ein gültiges Shidoku-Rätsel entstehen kann. Somit kann in dem Typ-1 Shidoku-Gitter kein $3$-Tipp Rätsel existieren.\\\n",
    "Nun wollen wir gleich das Typ-2 Shidoku-Gitter betrachten. Wir erzeugen nun ebenfalls die unvermeidbaren Mengen für dieses Gitter."
   ]
  },
  {
   "cell_type": "code",
   "execution_count": null,
   "metadata": {},
   "outputs": [],
   "source": [
    "unavoid_sets_2 = generate_unavoidable(shidoku_2, blueprint)\n",
    "for sets in unavoid_sets_2:\n",
    "    print(sets)\n",
    "    print(\"---------------\")"
   ]
  },
  {
   "cell_type": "markdown",
   "metadata": {},
   "source": [
    "Wir sehen erneut, dass die vier gefundenen unvermeidbaren Mengen eine disjunkte Zerlegung des Typ-2 Shidoku-Gitters bilden. Diese unvermeidbaren Mengen sind alle wieder $(4,1)$-unvermeidbar, womit das Typ-2 Shidoku-Gitter wieder selbst eine $(16,4)$-unvermeidbare Menge ist. Somit müssten erneut mindestens $4$ Tipps aus dem Gitter bezogen werden, damit ein gültiges Shidoku-Rätsel entstehen kann. Somit kann auch in dem Typ-2 Shidoku-Gitter kein $3$-Tipp Rätsel existieren.\\\n",
    "Durch die Invarianz der Existenz eines $3$-Tipp Rätsel unter den Äquivalenzklassen können wir also insgesamt mit Sicherheit sagen:\n",
    "<h2><center> Es existiert kein $3$-Tipp Shidoku! </center></h2>"
   ]
  }
 ],
 "metadata": {
  "kernelspec": {
   "display_name": "Python 3",
   "language": "python",
   "name": "python3"
  },
  "language_info": {
   "codemirror_mode": {
    "name": "ipython",
    "version": 3
   },
   "file_extension": ".py",
   "mimetype": "text/x-python",
   "name": "python",
   "nbconvert_exporter": "python",
   "pygments_lexer": "ipython3",
   "version": "3.8.3"
  }
 },
 "nbformat": 4,
 "nbformat_minor": 4
}
